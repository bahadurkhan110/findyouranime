{
 "cells": [
  {
   "cell_type": "markdown",
   "id": "b9f486c1-51cc-4baf-a766-fbc2a51496c5",
   "metadata": {},
   "source": [
    "## Find Your Anime - Recommender System for finding best possible Animes "
   ]
  },
  {
   "cell_type": "markdown",
   "id": "f3d8d58c-070a-42da-9303-94f784bc4f04",
   "metadata": {},
   "source": [
    "FindYourAnime is a comprehensive recommendation system designed to revolutionize how anime enthusiasts discover and explore new titles. By leveraging advanced algorithms and extensive data, FindYourAnime provides personalized recommendations tailored to each user's unique preferences, going beyond mainstream suggestions to uncover hidden gems and niche favorites."
   ]
  },
  {
   "cell_type": "markdown",
   "id": "7bfd16e0-8c88-41e3-8ef0-1e755d75ee2d",
   "metadata": {},
   "source": [
    "#### Problem Statement:"
   ]
  },
  {
   "cell_type": "markdown",
   "id": "c11a8f14-d7f2-46c0-bd6c-602f9331d87a",
   "metadata": {},
   "source": [
    "Despite the vast array of anime titles available, many enthusiasts struggle to discover content that resonates with their unique tastes and preferences. Mainstream recommendation systems often overlook niche or lesser-known titles, leading to frustration and a limited viewing experience for users seeking something different. Additionally, existing platforms may lack the depth and personalization needed to truly understand individual preferences, resulting in generic recommendations that fail to capture the essence of what users enjoy. This gap in personalized and diverse anime recommendations highlights the need for an innovative solution that combines advanced recommendation techniques with user-friendly interfaces to empower anime enthusiasts to explore, discover, and connect with anime titles that truly align with their interests and preferences."
   ]
  },
  {
   "cell_type": "markdown",
   "id": "99f91dcc-bf91-4455-a678-9cc573ece46f",
   "metadata": {},
   "source": [
    "#### Importing Necessary Libraries"
   ]
  },
  {
   "cell_type": "code",
   "execution_count": 123,
   "id": "4192c7d0-265d-4ad6-8b1a-b7b68d155347",
   "metadata": {},
   "outputs": [],
   "source": [
    "import pandas as pd\n",
    "import numpy as np\n",
    "import seaborn as sns\n",
    "import matplotlib.pyplot as plt\n",
    "from sklearn.neighbors import NearestNeighbors\n",
    "import warnings\n",
    "import gradio as gr\n",
    "import tempfile\n",
    "from sklearn.feature_extraction.text import TfidfVectorizer\n",
    "from sklearn.metrics.pairwise import sigmoid_kernel\n",
    "from sklearn.metrics.pairwise import linear_kernel\n",
    "from scipy.sparse import csr_matrix\n",
    "warnings.filterwarnings(\"ignore\")"
   ]
  },
  {
   "cell_type": "markdown",
   "id": "33128e6b-3655-4033-af4d-035554c37417",
   "metadata": {},
   "source": [
    "#### Loadind the Data"
   ]
  },
  {
   "cell_type": "code",
   "execution_count": 48,
   "id": "b9f9c88f-981a-44e2-85dc-5bc763819124",
   "metadata": {},
   "outputs": [],
   "source": [
    "anime_data_initial = pd.read_csv('data/anime.csv')\n",
    "rating_data = pd.read_csv('data/rating.csv')"
   ]
  },
  {
   "cell_type": "code",
   "execution_count": 49,
   "id": "8cd000e0-140e-411b-bc15-52970fa772c8",
   "metadata": {},
   "outputs": [
    {
     "data": {
      "text/html": [
       "<div>\n",
       "<style scoped>\n",
       "    .dataframe tbody tr th:only-of-type {\n",
       "        vertical-align: middle;\n",
       "    }\n",
       "\n",
       "    .dataframe tbody tr th {\n",
       "        vertical-align: top;\n",
       "    }\n",
       "\n",
       "    .dataframe thead th {\n",
       "        text-align: right;\n",
       "    }\n",
       "</style>\n",
       "<table border=\"1\" class=\"dataframe\">\n",
       "  <thead>\n",
       "    <tr style=\"text-align: right;\">\n",
       "      <th></th>\n",
       "      <th>anime_id</th>\n",
       "      <th>name</th>\n",
       "      <th>genre</th>\n",
       "      <th>type</th>\n",
       "      <th>episodes</th>\n",
       "      <th>rating</th>\n",
       "      <th>members</th>\n",
       "    </tr>\n",
       "  </thead>\n",
       "  <tbody>\n",
       "    <tr>\n",
       "      <th>0</th>\n",
       "      <td>32281</td>\n",
       "      <td>Kimi no Na wa.</td>\n",
       "      <td>Drama, Romance, School, Supernatural</td>\n",
       "      <td>Movie</td>\n",
       "      <td>1</td>\n",
       "      <td>9.37</td>\n",
       "      <td>200630</td>\n",
       "    </tr>\n",
       "    <tr>\n",
       "      <th>1</th>\n",
       "      <td>5114</td>\n",
       "      <td>Fullmetal Alchemist: Brotherhood</td>\n",
       "      <td>Action, Adventure, Drama, Fantasy, Magic, Mili...</td>\n",
       "      <td>TV</td>\n",
       "      <td>64</td>\n",
       "      <td>9.26</td>\n",
       "      <td>793665</td>\n",
       "    </tr>\n",
       "    <tr>\n",
       "      <th>2</th>\n",
       "      <td>28977</td>\n",
       "      <td>Gintama°</td>\n",
       "      <td>Action, Comedy, Historical, Parody, Samurai, S...</td>\n",
       "      <td>TV</td>\n",
       "      <td>51</td>\n",
       "      <td>9.25</td>\n",
       "      <td>114262</td>\n",
       "    </tr>\n",
       "    <tr>\n",
       "      <th>3</th>\n",
       "      <td>9253</td>\n",
       "      <td>Steins;Gate</td>\n",
       "      <td>Sci-Fi, Thriller</td>\n",
       "      <td>TV</td>\n",
       "      <td>24</td>\n",
       "      <td>9.17</td>\n",
       "      <td>673572</td>\n",
       "    </tr>\n",
       "    <tr>\n",
       "      <th>4</th>\n",
       "      <td>9969</td>\n",
       "      <td>Gintama&amp;#039;</td>\n",
       "      <td>Action, Comedy, Historical, Parody, Samurai, S...</td>\n",
       "      <td>TV</td>\n",
       "      <td>51</td>\n",
       "      <td>9.16</td>\n",
       "      <td>151266</td>\n",
       "    </tr>\n",
       "  </tbody>\n",
       "</table>\n",
       "</div>"
      ],
      "text/plain": [
       "   anime_id                              name  \\\n",
       "0     32281                    Kimi no Na wa.   \n",
       "1      5114  Fullmetal Alchemist: Brotherhood   \n",
       "2     28977                          Gintama°   \n",
       "3      9253                       Steins;Gate   \n",
       "4      9969                     Gintama&#039;   \n",
       "\n",
       "                                               genre   type episodes  rating  \\\n",
       "0               Drama, Romance, School, Supernatural  Movie        1    9.37   \n",
       "1  Action, Adventure, Drama, Fantasy, Magic, Mili...     TV       64    9.26   \n",
       "2  Action, Comedy, Historical, Parody, Samurai, S...     TV       51    9.25   \n",
       "3                                   Sci-Fi, Thriller     TV       24    9.17   \n",
       "4  Action, Comedy, Historical, Parody, Samurai, S...     TV       51    9.16   \n",
       "\n",
       "   members  \n",
       "0   200630  \n",
       "1   793665  \n",
       "2   114262  \n",
       "3   673572  \n",
       "4   151266  "
      ]
     },
     "execution_count": 49,
     "metadata": {},
     "output_type": "execute_result"
    }
   ],
   "source": [
    "anime_data_initial.head()"
   ]
  },
  {
   "cell_type": "code",
   "execution_count": 42,
   "id": "99db64a7-9ed9-4fec-b662-29dcd0a3c286",
   "metadata": {},
   "outputs": [
    {
     "data": {
      "text/html": [
       "<div>\n",
       "<style scoped>\n",
       "    .dataframe tbody tr th:only-of-type {\n",
       "        vertical-align: middle;\n",
       "    }\n",
       "\n",
       "    .dataframe tbody tr th {\n",
       "        vertical-align: top;\n",
       "    }\n",
       "\n",
       "    .dataframe thead th {\n",
       "        text-align: right;\n",
       "    }\n",
       "</style>\n",
       "<table border=\"1\" class=\"dataframe\">\n",
       "  <thead>\n",
       "    <tr style=\"text-align: right;\">\n",
       "      <th></th>\n",
       "      <th>user_id</th>\n",
       "      <th>anime_id</th>\n",
       "      <th>rating</th>\n",
       "    </tr>\n",
       "  </thead>\n",
       "  <tbody>\n",
       "    <tr>\n",
       "      <th>0</th>\n",
       "      <td>1</td>\n",
       "      <td>20</td>\n",
       "      <td>-1</td>\n",
       "    </tr>\n",
       "    <tr>\n",
       "      <th>1</th>\n",
       "      <td>1</td>\n",
       "      <td>24</td>\n",
       "      <td>-1</td>\n",
       "    </tr>\n",
       "    <tr>\n",
       "      <th>2</th>\n",
       "      <td>1</td>\n",
       "      <td>79</td>\n",
       "      <td>-1</td>\n",
       "    </tr>\n",
       "    <tr>\n",
       "      <th>3</th>\n",
       "      <td>1</td>\n",
       "      <td>226</td>\n",
       "      <td>-1</td>\n",
       "    </tr>\n",
       "    <tr>\n",
       "      <th>4</th>\n",
       "      <td>1</td>\n",
       "      <td>241</td>\n",
       "      <td>-1</td>\n",
       "    </tr>\n",
       "  </tbody>\n",
       "</table>\n",
       "</div>"
      ],
      "text/plain": [
       "   user_id  anime_id  rating\n",
       "0        1        20      -1\n",
       "1        1        24      -1\n",
       "2        1        79      -1\n",
       "3        1       226      -1\n",
       "4        1       241      -1"
      ]
     },
     "execution_count": 42,
     "metadata": {},
     "output_type": "execute_result"
    }
   ],
   "source": [
    "rating_data.head()"
   ]
  },
  {
   "cell_type": "code",
   "execution_count": 50,
   "id": "a69b8db9-72f7-4755-bab9-8116173221fc",
   "metadata": {},
   "outputs": [
    {
     "name": "stdout",
     "output_type": "stream",
     "text": [
      "<class 'pandas.core.frame.DataFrame'>\n",
      "RangeIndex: 12294 entries, 0 to 12293\n",
      "Data columns (total 7 columns):\n",
      " #   Column    Non-Null Count  Dtype  \n",
      "---  ------    --------------  -----  \n",
      " 0   anime_id  12294 non-null  int64  \n",
      " 1   name      12294 non-null  object \n",
      " 2   genre     12232 non-null  object \n",
      " 3   type      12269 non-null  object \n",
      " 4   episodes  12294 non-null  object \n",
      " 5   rating    12064 non-null  float64\n",
      " 6   members   12294 non-null  int64  \n",
      "dtypes: float64(1), int64(2), object(4)\n",
      "memory usage: 672.5+ KB\n"
     ]
    }
   ],
   "source": [
    "anime_data_initial.info()"
   ]
  },
  {
   "cell_type": "markdown",
   "id": "0b743317-c1b8-4325-be34-8374fef98101",
   "metadata": {},
   "source": [
    "1. anime_id: An integer representing the unique identifier for each anime.\n",
    "2. name: The name of the anime.\n",
    "3. genre: The genre(s) of the anime. Some entries may be missing (Non-Null Count is less than the total count).\n",
    "4. type: The type of anime (e.g., TV, OVA, Movie).\n",
    "5. episodes: The number of episodes of the anime.\n",
    "6. rating: The average rating of the anime.\n",
    "7. members: The number of members who have marked the anime as part of their list (e.g., watched, plan to watch) on the platform.\n",
    "\n",
    "The DataFrame contains 12,294 entries, with varying non-null counts for each column, indicating missing values in some columns like genre, type, and rating"
   ]
  },
  {
   "cell_type": "code",
   "execution_count": 44,
   "id": "06eb6c20-392c-495b-84d9-ae3d3d499f54",
   "metadata": {},
   "outputs": [
    {
     "name": "stdout",
     "output_type": "stream",
     "text": [
      "<class 'pandas.core.frame.DataFrame'>\n",
      "RangeIndex: 7813737 entries, 0 to 7813736\n",
      "Data columns (total 3 columns):\n",
      " #   Column    Dtype\n",
      "---  ------    -----\n",
      " 0   user_id   int64\n",
      " 1   anime_id  int64\n",
      " 2   rating    int64\n",
      "dtypes: int64(3)\n",
      "memory usage: 178.8 MB\n"
     ]
    }
   ],
   "source": [
    "rating_data.info()"
   ]
  },
  {
   "cell_type": "markdown",
   "id": "4caa7775-d9b0-4a5d-86d8-c756fab033cf",
   "metadata": {},
   "source": [
    "1. user_id: An integer representing the unique identifier for each user.\n",
    "2. anime_id: An integer representing the unique identifier for each anime.\n",
    "3. rating: An integer representing the rating given by the user to the anime.\n",
    "\n",
    "This DataFrame contains 7,813,737 entries, indicating a large dataset of user-anime interactions. Each entry represents a user's rating for a specific anime."
   ]
  },
  {
   "cell_type": "code",
   "execution_count": 51,
   "id": "e352c2cb-e4e4-47a2-95af-87215b315e85",
   "metadata": {},
   "outputs": [
    {
     "name": "stdout",
     "output_type": "stream",
     "text": [
      "The shape of the  data is (row, column):(12294, 7)\n"
     ]
    }
   ],
   "source": [
    "print (\"The shape of the  data is (row, column):\"+ str(anime_data_initial.shape))"
   ]
  },
  {
   "cell_type": "code",
   "execution_count": 46,
   "id": "62568f90-8fce-4080-bad3-b2f0ef8b5d65",
   "metadata": {},
   "outputs": [
    {
     "name": "stdout",
     "output_type": "stream",
     "text": [
      "The shape of the  data is (row, column):(7813737, 3)\n"
     ]
    }
   ],
   "source": [
    "print (\"The shape of the  data is (row, column):\"+ str(rating_data.shape))"
   ]
  },
  {
   "cell_type": "markdown",
   "id": "300ef28e-2195-4d48-8b83-42b50704ead9",
   "metadata": {},
   "source": [
    "#### Merging the datasets"
   ]
  },
  {
   "cell_type": "markdown",
   "id": "f5901640-8f08-41ab-b584-f2326a1fdab3",
   "metadata": {},
   "source": [
    "Merging datasets based on a common identifier like anime_id is crucial for combining relevant information from multiple sources. In this specific case, merging the anime_data and rating_data allows us to consolidate comprehensive details about each anime alongside user ratings. By bringing these datasets together, we gain deeper insights into user preferences and behaviors regarding specific anime titles. Renaming columns post-merge enhances clarity and readability, ensuring a coherent and understandable dataset. This process facilitates advanced analytics and modeling, enabling us to build powerful recommendation systems like FindYourAnime."
   ]
  },
  {
   "cell_type": "code",
   "execution_count": 52,
   "id": "758e41ad-fe25-4035-8953-e6e415bf372f",
   "metadata": {},
   "outputs": [
    {
     "data": {
      "text/html": [
       "<div>\n",
       "<style scoped>\n",
       "    .dataframe tbody tr th:only-of-type {\n",
       "        vertical-align: middle;\n",
       "    }\n",
       "\n",
       "    .dataframe tbody tr th {\n",
       "        vertical-align: top;\n",
       "    }\n",
       "\n",
       "    .dataframe thead th {\n",
       "        text-align: right;\n",
       "    }\n",
       "</style>\n",
       "<table border=\"1\" class=\"dataframe\">\n",
       "  <thead>\n",
       "    <tr style=\"text-align: right;\">\n",
       "      <th></th>\n",
       "      <th>anime_id</th>\n",
       "      <th>name</th>\n",
       "      <th>genre</th>\n",
       "      <th>type</th>\n",
       "      <th>episodes</th>\n",
       "      <th>rating</th>\n",
       "      <th>members</th>\n",
       "      <th>user_id</th>\n",
       "      <th>rating_user</th>\n",
       "    </tr>\n",
       "  </thead>\n",
       "  <tbody>\n",
       "    <tr>\n",
       "      <th>0</th>\n",
       "      <td>32281</td>\n",
       "      <td>Kimi no Na wa.</td>\n",
       "      <td>Drama, Romance, School, Supernatural</td>\n",
       "      <td>Movie</td>\n",
       "      <td>1</td>\n",
       "      <td>9.37</td>\n",
       "      <td>200630</td>\n",
       "      <td>99</td>\n",
       "      <td>5</td>\n",
       "    </tr>\n",
       "    <tr>\n",
       "      <th>1</th>\n",
       "      <td>32281</td>\n",
       "      <td>Kimi no Na wa.</td>\n",
       "      <td>Drama, Romance, School, Supernatural</td>\n",
       "      <td>Movie</td>\n",
       "      <td>1</td>\n",
       "      <td>9.37</td>\n",
       "      <td>200630</td>\n",
       "      <td>152</td>\n",
       "      <td>10</td>\n",
       "    </tr>\n",
       "    <tr>\n",
       "      <th>2</th>\n",
       "      <td>32281</td>\n",
       "      <td>Kimi no Na wa.</td>\n",
       "      <td>Drama, Romance, School, Supernatural</td>\n",
       "      <td>Movie</td>\n",
       "      <td>1</td>\n",
       "      <td>9.37</td>\n",
       "      <td>200630</td>\n",
       "      <td>244</td>\n",
       "      <td>10</td>\n",
       "    </tr>\n",
       "    <tr>\n",
       "      <th>3</th>\n",
       "      <td>32281</td>\n",
       "      <td>Kimi no Na wa.</td>\n",
       "      <td>Drama, Romance, School, Supernatural</td>\n",
       "      <td>Movie</td>\n",
       "      <td>1</td>\n",
       "      <td>9.37</td>\n",
       "      <td>200630</td>\n",
       "      <td>271</td>\n",
       "      <td>10</td>\n",
       "    </tr>\n",
       "    <tr>\n",
       "      <th>4</th>\n",
       "      <td>32281</td>\n",
       "      <td>Kimi no Na wa.</td>\n",
       "      <td>Drama, Romance, School, Supernatural</td>\n",
       "      <td>Movie</td>\n",
       "      <td>1</td>\n",
       "      <td>9.37</td>\n",
       "      <td>200630</td>\n",
       "      <td>278</td>\n",
       "      <td>-1</td>\n",
       "    </tr>\n",
       "  </tbody>\n",
       "</table>\n",
       "</div>"
      ],
      "text/plain": [
       "   anime_id            name                                 genre   type  \\\n",
       "0     32281  Kimi no Na wa.  Drama, Romance, School, Supernatural  Movie   \n",
       "1     32281  Kimi no Na wa.  Drama, Romance, School, Supernatural  Movie   \n",
       "2     32281  Kimi no Na wa.  Drama, Romance, School, Supernatural  Movie   \n",
       "3     32281  Kimi no Na wa.  Drama, Romance, School, Supernatural  Movie   \n",
       "4     32281  Kimi no Na wa.  Drama, Romance, School, Supernatural  Movie   \n",
       "\n",
       "  episodes  rating  members  user_id  rating_user  \n",
       "0        1    9.37   200630       99            5  \n",
       "1        1    9.37   200630      152           10  \n",
       "2        1    9.37   200630      244           10  \n",
       "3        1    9.37   200630      271           10  \n",
       "4        1    9.37   200630      278           -1  "
      ]
     },
     "execution_count": 52,
     "metadata": {},
     "output_type": "execute_result"
    }
   ],
   "source": [
    "anime_data = pd.merge(anime_data_initial, rating_data, on='anime_id', suffixes= ['', '_user'])\n",
    "anime_data.head()"
   ]
  },
  {
   "cell_type": "markdown",
   "id": "7274d062-6cbb-41af-a9a4-83ddf4863e31",
   "metadata": {},
   "source": [
    "#### Exploratory Data Analysis"
   ]
  },
  {
   "cell_type": "markdown",
   "id": "706a34a3-dac0-45ac-9217-35cc756319b4",
   "metadata": {},
   "source": [
    "##### Top 10 Anime Based on Rating Counts"
   ]
  },
  {
   "cell_type": "code",
   "execution_count": 53,
   "id": "e3900846-cb70-47e0-96f3-715fdbe9ba95",
   "metadata": {},
   "outputs": [
    {
     "data": {
      "image/png": "[encoded data removed]",
      "text/plain": [
       "<Figure size 1200x600 with 1 Axes>"
      ]
     },
     "metadata": {},
     "output_type": "display_data"
    }
   ],
   "source": [
    "import matplotlib.pyplot as plt\n",
    "import seaborn as sns\n",
    "\n",
    "# Creating a dataframe for rating counts\n",
    "anime_rating_count = anime_data.dropna(axis=0, subset=['name']).groupby('name')['rating_user'].count().reset_index()\n",
    "anime_rating_count.columns = ['name', 'total_rating_count']\n",
    "\n",
    "# Plotting the bar plot for top 10 anime as per rating \n",
    "top_10_anime_rating = anime_rating_count.sort_values(by='total_rating_count', ascending=False).head(10)\n",
    "\n",
    "# Set seaborn style\n",
    "sns.set(style=\"whitegrid\")\n",
    "\n",
    "# Create the bar plot\n",
    "plt.figure(figsize=(12, 6))\n",
    "ax = sns.barplot(x=\"total_rating_count\", y=\"name\", data=top_10_anime_rating, hue=\"name\")\n",
    "\n",
    "# Customize labels and title\n",
    "ax.set_title('Top 10 Anime Based on Rating Counts', fontsize=18)\n",
    "ax.set_xlabel('Total Rating Count', fontsize=14)\n",
    "ax.set_ylabel('Anime Title', fontsize=14)\n",
    "\n",
    "# Adjust tick labels\n",
    "ax.set_xticklabels(ax.get_xticks(), fontsize=12)\n",
    "ax.set_yticklabels(ax.get_yticklabels(), fontsize=12)\n",
    "\n",
    "# Add annotations\n",
    "for p in ax.patches:\n",
    "    ax.annotate(\"%.0f\" % p.get_width(), (p.get_width(), p.get_y() + p.get_height() / 2), xytext=(5, 10), textcoords='offset points', fontsize=12, color='black')\n",
    "\n",
    "# Show plot\n",
    "plt.tight_layout()\n",
    "plt.show()\n"
   ]
  },
  {
   "cell_type": "markdown",
   "id": "1d149f4d-e570-474e-b8ff-03f1839cef6e",
   "metadata": {},
   "source": [
    "This graph shows top 10 animes based on the total rating points it has earned. We see some of the famous anime titles like Death Note, Naruto and Fullmetal."
   ]
  },
  {
   "cell_type": "markdown",
   "id": "ce68cf49-ade5-4e3f-ba45-c6f9191c7d51",
   "metadata": {},
   "source": [
    "##### Top 10 Anime based on Community Size"
   ]
  },
  {
   "cell_type": "code",
   "execution_count": 54,
   "id": "53621dd0-360f-4dbb-af7c-27497e3b8835",
   "metadata": {},
   "outputs": [
    {
     "data": {
      "image/png": "[encoded data removed]",
      "text/plain": [
       "<Figure size 1200x600 with 1 Axes>"
      ]
     },
     "metadata": {},
     "output_type": "display_data"
    }
   ],
   "source": [
    "duplicate_anime = anime_data.copy()\n",
    "duplicate_anime.drop_duplicates(subset=\"name\", keep='first', inplace=True)\n",
    "\n",
    "top10_animemembers = duplicate_anime[['name', 'members']].sort_values(by='members', ascending=False).head(10)\n",
    "\n",
    "sns.set(style=\"whitegrid\")\n",
    "\n",
    "plt.figure(figsize=(12, 6))\n",
    "ax = sns.barplot(x=\"name\", y=\"members\", data=top10_animemembers, palette=\"gnuplot2\")\n",
    "\n",
    "ax.set_title('Top 10 Anime based on Community Size', fontsize=22)\n",
    "ax.set_xlabel('Anime', fontsize=20)\n",
    "ax.set_ylabel('Community Size', fontsize=20)\n",
    "\n",
    "ax.set_xticklabels(ax.get_xticklabels(), fontsize=11, rotation=40, ha=\"right\")\n",
    "ax.set_yticklabels(ax.get_yticklabels(), fontsize=12)\n",
    "\n",
    "for p in ax.patches:\n",
    "    ax.annotate(format(p.get_height(), '.0f'), \n",
    "                (p.get_x() + p.get_width() / 2., p.get_height()), \n",
    "                ha = 'center', va = 'center', \n",
    "                xytext = (0, 5), \n",
    "                textcoords = 'offset points',\n",
    "                fontsize=12)\n",
    "\n",
    "plt.tight_layout()\n",
    "plt.show()"
   ]
  },
  {
   "cell_type": "markdown",
   "id": "15be3e82-bdc0-4f38-a3fb-327d28601e3f",
   "metadata": {},
   "source": [
    "Yet again the community size of death note is largest and is followed by other famous anime like attack on titan and fullmetal and naruto."
   ]
  },
  {
   "cell_type": "markdown",
   "id": "ab167580-b846-411c-be30-99ebf8a36e4f",
   "metadata": {},
   "source": [
    "##### CHecking the distribution of Anime Ratings"
   ]
  },
  {
   "cell_type": "code",
   "execution_count": 55,
   "id": "32160583-dd08-4d9c-bf0e-a5997bce5026",
   "metadata": {},
   "outputs": [
    {
     "data": {
      "text/plain": [
       "Text(0.5, 1.0, 'Anime Ratings')"
      ]
     },
     "execution_count": 55,
     "metadata": {},
     "output_type": "execute_result"
    },
    {
     "data": {
      "image/png": "[encoded data removed]",
      "text/plain": [
       "<Figure size 1200x500 with 1 Axes>"
      ]
     },
     "metadata": {},
     "output_type": "display_data"
    }
   ],
   "source": [
    "plt.figure(figsize = (12, 5))\n",
    "anime_data['rating'].hist(bins=50)\n",
    "plt.title(\"Anime Ratings\")"
   ]
  },
  {
   "cell_type": "markdown",
   "id": "d4004a4e-6871-4347-a5b5-75b9f363ae33",
   "metadata": {},
   "source": [
    "Looking at the histogram of the anime rating, majority of the animes fall between 7 to 8.5. The distribution is also left skewed."
   ]
  },
  {
   "cell_type": "markdown",
   "id": "7f87855b-abec-4203-a829-36e0ede4d133",
   "metadata": {},
   "source": [
    "### Building The Collab: Based Recommender System"
   ]
  },
  {
   "cell_type": "markdown",
   "id": "93ac158d-1739-41b1-a366-531d94db3659",
   "metadata": {},
   "source": [
    "Collaborative filtering-based recommendation, often abbreviated as \"collab-based reco,\" is a popular approach in recommendation systems that leverages the collective preferences or behaviors of users to generate recommendations."
   ]
  },
  {
   "cell_type": "markdown",
   "id": "f543472a-0030-4abc-b3fa-63dac4fbecec",
   "metadata": {},
   "source": [
    "##### Making the data a bit more cleaned"
   ]
  },
  {
   "cell_type": "code",
   "execution_count": 56,
   "id": "00c6f0ea-e3d8-4276-a829-84d71e21448a",
   "metadata": {},
   "outputs": [
    {
     "data": {
      "text/html": [
       "<div>\n",
       "<style scoped>\n",
       "    .dataframe tbody tr th:only-of-type {\n",
       "        vertical-align: middle;\n",
       "    }\n",
       "\n",
       "    .dataframe tbody tr th {\n",
       "        vertical-align: top;\n",
       "    }\n",
       "\n",
       "    .dataframe thead th {\n",
       "        text-align: right;\n",
       "    }\n",
       "</style>\n",
       "<table border=\"1\" class=\"dataframe\">\n",
       "  <thead>\n",
       "    <tr style=\"text-align: right;\">\n",
       "      <th></th>\n",
       "      <th>anime_id</th>\n",
       "      <th>name</th>\n",
       "      <th>genre</th>\n",
       "      <th>type</th>\n",
       "      <th>episodes</th>\n",
       "      <th>rating</th>\n",
       "      <th>members</th>\n",
       "      <th>user_id</th>\n",
       "      <th>rating_user</th>\n",
       "    </tr>\n",
       "  </thead>\n",
       "  <tbody>\n",
       "    <tr>\n",
       "      <th>0</th>\n",
       "      <td>32281</td>\n",
       "      <td>Kimi no Na wa.</td>\n",
       "      <td>Drama, Romance, School, Supernatural</td>\n",
       "      <td>Movie</td>\n",
       "      <td>1</td>\n",
       "      <td>9.37</td>\n",
       "      <td>200630</td>\n",
       "      <td>99</td>\n",
       "      <td>5.0</td>\n",
       "    </tr>\n",
       "    <tr>\n",
       "      <th>1</th>\n",
       "      <td>32281</td>\n",
       "      <td>Kimi no Na wa.</td>\n",
       "      <td>Drama, Romance, School, Supernatural</td>\n",
       "      <td>Movie</td>\n",
       "      <td>1</td>\n",
       "      <td>9.37</td>\n",
       "      <td>200630</td>\n",
       "      <td>152</td>\n",
       "      <td>10.0</td>\n",
       "    </tr>\n",
       "    <tr>\n",
       "      <th>2</th>\n",
       "      <td>32281</td>\n",
       "      <td>Kimi no Na wa.</td>\n",
       "      <td>Drama, Romance, School, Supernatural</td>\n",
       "      <td>Movie</td>\n",
       "      <td>1</td>\n",
       "      <td>9.37</td>\n",
       "      <td>200630</td>\n",
       "      <td>244</td>\n",
       "      <td>10.0</td>\n",
       "    </tr>\n",
       "    <tr>\n",
       "      <th>3</th>\n",
       "      <td>32281</td>\n",
       "      <td>Kimi no Na wa.</td>\n",
       "      <td>Drama, Romance, School, Supernatural</td>\n",
       "      <td>Movie</td>\n",
       "      <td>1</td>\n",
       "      <td>9.37</td>\n",
       "      <td>200630</td>\n",
       "      <td>271</td>\n",
       "      <td>10.0</td>\n",
       "    </tr>\n",
       "    <tr>\n",
       "      <th>4</th>\n",
       "      <td>32281</td>\n",
       "      <td>Kimi no Na wa.</td>\n",
       "      <td>Drama, Romance, School, Supernatural</td>\n",
       "      <td>Movie</td>\n",
       "      <td>1</td>\n",
       "      <td>9.37</td>\n",
       "      <td>200630</td>\n",
       "      <td>278</td>\n",
       "      <td>NaN</td>\n",
       "    </tr>\n",
       "  </tbody>\n",
       "</table>\n",
       "</div>"
      ],
      "text/plain": [
       "   anime_id            name                                 genre   type  \\\n",
       "0     32281  Kimi no Na wa.  Drama, Romance, School, Supernatural  Movie   \n",
       "1     32281  Kimi no Na wa.  Drama, Romance, School, Supernatural  Movie   \n",
       "2     32281  Kimi no Na wa.  Drama, Romance, School, Supernatural  Movie   \n",
       "3     32281  Kimi no Na wa.  Drama, Romance, School, Supernatural  Movie   \n",
       "4     32281  Kimi no Na wa.  Drama, Romance, School, Supernatural  Movie   \n",
       "\n",
       "  episodes  rating  members  user_id  rating_user  \n",
       "0        1    9.37   200630       99          5.0  \n",
       "1        1    9.37   200630      152         10.0  \n",
       "2        1    9.37   200630      244         10.0  \n",
       "3        1    9.37   200630      271         10.0  \n",
       "4        1    9.37   200630      278          NaN  "
      ]
     },
     "execution_count": 56,
     "metadata": {},
     "output_type": "execute_result"
    }
   ],
   "source": [
    "#Replacing -1 with NaN in user_rating column\n",
    "anime = anime_data.copy()\n",
    "anime[\"rating_user\"].replace({-1: np.nan}, inplace=True)\n",
    "anime.head()"
   ]
  },
  {
   "cell_type": "code",
   "execution_count": 57,
   "id": "96c0bdce-9de2-4af7-96c8-4961688dad27",
   "metadata": {},
   "outputs": [
    {
     "data": {
      "text/plain": [
       "user_id\n",
       "48766    10226\n",
       "42635     3747\n",
       "53698     2905\n",
       "57620     2702\n",
       "59643     2633\n",
       "         ...  \n",
       "57180        1\n",
       "42128        1\n",
       "56249        1\n",
       "23657        1\n",
       "64425        1\n",
       "Name: count, Length: 73515, dtype: int64"
      ]
     },
     "execution_count": 57,
     "metadata": {},
     "output_type": "execute_result"
    }
   ],
   "source": [
    "anime['user_id'].value_counts()"
   ]
  },
  {
   "cell_type": "markdown",
   "id": "333bf062-eed4-4952-beb3-0642ef498f42",
   "metadata": {},
   "source": [
    "There are users who has rated only once, even if they have rated it 5, it can’t be considered a valuable record for recommendation. "
   ]
  },
  {
   "cell_type": "code",
   "execution_count": 58,
   "id": "060a1005-87bf-44a1-8681-b10a7816198e",
   "metadata": {},
   "outputs": [],
   "source": [
    "counts = anime['user_id'].value_counts()\n",
    "anime = anime[anime['user_id'].isin(counts[counts >= 200].index)]"
   ]
  },
  {
   "cell_type": "code",
   "execution_count": 59,
   "id": "d53870dc-1875-484b-80c8-8bb00f3ea8cb",
   "metadata": {},
   "outputs": [
    {
     "data": {
      "text/html": [
       "<div>\n",
       "<style scoped>\n",
       "    .dataframe tbody tr th:only-of-type {\n",
       "        vertical-align: middle;\n",
       "    }\n",
       "\n",
       "    .dataframe tbody tr th {\n",
       "        vertical-align: top;\n",
       "    }\n",
       "\n",
       "    .dataframe thead th {\n",
       "        text-align: right;\n",
       "    }\n",
       "</style>\n",
       "<table border=\"1\" class=\"dataframe\">\n",
       "  <thead>\n",
       "    <tr style=\"text-align: right;\">\n",
       "      <th>user_id</th>\n",
       "      <th>5</th>\n",
       "      <th>7</th>\n",
       "      <th>17</th>\n",
       "      <th>38</th>\n",
       "      <th>43</th>\n",
       "      <th>46</th>\n",
       "      <th>123</th>\n",
       "      <th>129</th>\n",
       "      <th>139</th>\n",
       "      <th>160</th>\n",
       "      <th>...</th>\n",
       "      <th>73460</th>\n",
       "      <th>73462</th>\n",
       "      <th>73476</th>\n",
       "      <th>73477</th>\n",
       "      <th>73485</th>\n",
       "      <th>73491</th>\n",
       "      <th>73499</th>\n",
       "      <th>73502</th>\n",
       "      <th>73503</th>\n",
       "      <th>73507</th>\n",
       "    </tr>\n",
       "    <tr>\n",
       "      <th>name</th>\n",
       "      <th></th>\n",
       "      <th></th>\n",
       "      <th></th>\n",
       "      <th></th>\n",
       "      <th></th>\n",
       "      <th></th>\n",
       "      <th></th>\n",
       "      <th></th>\n",
       "      <th></th>\n",
       "      <th></th>\n",
       "      <th></th>\n",
       "      <th></th>\n",
       "      <th></th>\n",
       "      <th></th>\n",
       "      <th></th>\n",
       "      <th></th>\n",
       "      <th></th>\n",
       "      <th></th>\n",
       "      <th></th>\n",
       "      <th></th>\n",
       "      <th></th>\n",
       "    </tr>\n",
       "  </thead>\n",
       "  <tbody>\n",
       "    <tr>\n",
       "      <th>&amp;quot;0&amp;quot;</th>\n",
       "      <td>0.0</td>\n",
       "      <td>0.0</td>\n",
       "      <td>0.0</td>\n",
       "      <td>0.0</td>\n",
       "      <td>0.0</td>\n",
       "      <td>0.0</td>\n",
       "      <td>0.0</td>\n",
       "      <td>0.0</td>\n",
       "      <td>0.0</td>\n",
       "      <td>0.0</td>\n",
       "      <td>...</td>\n",
       "      <td>0.0</td>\n",
       "      <td>0.0</td>\n",
       "      <td>0.0</td>\n",
       "      <td>0.0</td>\n",
       "      <td>0.0</td>\n",
       "      <td>0.0</td>\n",
       "      <td>0.0</td>\n",
       "      <td>0.0</td>\n",
       "      <td>0.0</td>\n",
       "      <td>0.0</td>\n",
       "    </tr>\n",
       "    <tr>\n",
       "      <th>&amp;quot;Bungaku Shoujo&amp;quot; Kyou no Oyatsu: Hatsukoi</th>\n",
       "      <td>0.0</td>\n",
       "      <td>0.0</td>\n",
       "      <td>0.0</td>\n",
       "      <td>0.0</td>\n",
       "      <td>0.0</td>\n",
       "      <td>0.0</td>\n",
       "      <td>0.0</td>\n",
       "      <td>0.0</td>\n",
       "      <td>0.0</td>\n",
       "      <td>7.0</td>\n",
       "      <td>...</td>\n",
       "      <td>0.0</td>\n",
       "      <td>0.0</td>\n",
       "      <td>0.0</td>\n",
       "      <td>0.0</td>\n",
       "      <td>0.0</td>\n",
       "      <td>0.0</td>\n",
       "      <td>0.0</td>\n",
       "      <td>10.0</td>\n",
       "      <td>0.0</td>\n",
       "      <td>0.0</td>\n",
       "    </tr>\n",
       "    <tr>\n",
       "      <th>&amp;quot;Bungaku Shoujo&amp;quot; Memoire</th>\n",
       "      <td>0.0</td>\n",
       "      <td>0.0</td>\n",
       "      <td>0.0</td>\n",
       "      <td>0.0</td>\n",
       "      <td>0.0</td>\n",
       "      <td>0.0</td>\n",
       "      <td>0.0</td>\n",
       "      <td>0.0</td>\n",
       "      <td>0.0</td>\n",
       "      <td>8.0</td>\n",
       "      <td>...</td>\n",
       "      <td>0.0</td>\n",
       "      <td>0.0</td>\n",
       "      <td>0.0</td>\n",
       "      <td>0.0</td>\n",
       "      <td>0.0</td>\n",
       "      <td>0.0</td>\n",
       "      <td>0.0</td>\n",
       "      <td>0.0</td>\n",
       "      <td>0.0</td>\n",
       "      <td>0.0</td>\n",
       "    </tr>\n",
       "    <tr>\n",
       "      <th>&amp;quot;Bungaku Shoujo&amp;quot; Movie</th>\n",
       "      <td>0.0</td>\n",
       "      <td>0.0</td>\n",
       "      <td>0.0</td>\n",
       "      <td>0.0</td>\n",
       "      <td>0.0</td>\n",
       "      <td>0.0</td>\n",
       "      <td>0.0</td>\n",
       "      <td>0.0</td>\n",
       "      <td>0.0</td>\n",
       "      <td>8.0</td>\n",
       "      <td>...</td>\n",
       "      <td>0.0</td>\n",
       "      <td>0.0</td>\n",
       "      <td>0.0</td>\n",
       "      <td>0.0</td>\n",
       "      <td>0.0</td>\n",
       "      <td>0.0</td>\n",
       "      <td>0.0</td>\n",
       "      <td>10.0</td>\n",
       "      <td>0.0</td>\n",
       "      <td>0.0</td>\n",
       "    </tr>\n",
       "    <tr>\n",
       "      <th>&amp;quot;Eiji&amp;quot;</th>\n",
       "      <td>0.0</td>\n",
       "      <td>0.0</td>\n",
       "      <td>0.0</td>\n",
       "      <td>0.0</td>\n",
       "      <td>0.0</td>\n",
       "      <td>0.0</td>\n",
       "      <td>0.0</td>\n",
       "      <td>0.0</td>\n",
       "      <td>0.0</td>\n",
       "      <td>0.0</td>\n",
       "      <td>...</td>\n",
       "      <td>0.0</td>\n",
       "      <td>0.0</td>\n",
       "      <td>0.0</td>\n",
       "      <td>0.0</td>\n",
       "      <td>0.0</td>\n",
       "      <td>0.0</td>\n",
       "      <td>0.0</td>\n",
       "      <td>0.0</td>\n",
       "      <td>0.0</td>\n",
       "      <td>0.0</td>\n",
       "    </tr>\n",
       "  </tbody>\n",
       "</table>\n",
       "<p>5 rows × 10759 columns</p>\n",
       "</div>"
      ],
      "text/plain": [
       "user_id                                             5      7      17     \\\n",
       "name                                                                      \n",
       "&quot;0&quot;                                         0.0    0.0    0.0   \n",
       "&quot;Bungaku Shoujo&quot; Kyou no Oyatsu: Hats...    0.0    0.0    0.0   \n",
       "&quot;Bungaku Shoujo&quot; Memoire                    0.0    0.0    0.0   \n",
       "&quot;Bungaku Shoujo&quot; Movie                      0.0    0.0    0.0   \n",
       "&quot;Eiji&quot;                                      0.0    0.0    0.0   \n",
       "\n",
       "user_id                                             38     43     46     \\\n",
       "name                                                                      \n",
       "&quot;0&quot;                                         0.0    0.0    0.0   \n",
       "&quot;Bungaku Shoujo&quot; Kyou no Oyatsu: Hats...    0.0    0.0    0.0   \n",
       "&quot;Bungaku Shoujo&quot; Memoire                    0.0    0.0    0.0   \n",
       "&quot;Bungaku Shoujo&quot; Movie                      0.0    0.0    0.0   \n",
       "&quot;Eiji&quot;                                      0.0    0.0    0.0   \n",
       "\n",
       "user_id                                             123    129    139    \\\n",
       "name                                                                      \n",
       "&quot;0&quot;                                         0.0    0.0    0.0   \n",
       "&quot;Bungaku Shoujo&quot; Kyou no Oyatsu: Hats...    0.0    0.0    0.0   \n",
       "&quot;Bungaku Shoujo&quot; Memoire                    0.0    0.0    0.0   \n",
       "&quot;Bungaku Shoujo&quot; Movie                      0.0    0.0    0.0   \n",
       "&quot;Eiji&quot;                                      0.0    0.0    0.0   \n",
       "\n",
       "user_id                                             160    ...  73460  73462  \\\n",
       "name                                                       ...                 \n",
       "&quot;0&quot;                                         0.0  ...    0.0    0.0   \n",
       "&quot;Bungaku Shoujo&quot; Kyou no Oyatsu: Hats...    7.0  ...    0.0    0.0   \n",
       "&quot;Bungaku Shoujo&quot; Memoire                    8.0  ...    0.0    0.0   \n",
       "&quot;Bungaku Shoujo&quot; Movie                      8.0  ...    0.0    0.0   \n",
       "&quot;Eiji&quot;                                      0.0  ...    0.0    0.0   \n",
       "\n",
       "user_id                                             73476  73477  73485  \\\n",
       "name                                                                      \n",
       "&quot;0&quot;                                         0.0    0.0    0.0   \n",
       "&quot;Bungaku Shoujo&quot; Kyou no Oyatsu: Hats...    0.0    0.0    0.0   \n",
       "&quot;Bungaku Shoujo&quot; Memoire                    0.0    0.0    0.0   \n",
       "&quot;Bungaku Shoujo&quot; Movie                      0.0    0.0    0.0   \n",
       "&quot;Eiji&quot;                                      0.0    0.0    0.0   \n",
       "\n",
       "user_id                                             73491  73499  73502  \\\n",
       "name                                                                      \n",
       "&quot;0&quot;                                         0.0    0.0    0.0   \n",
       "&quot;Bungaku Shoujo&quot; Kyou no Oyatsu: Hats...    0.0    0.0   10.0   \n",
       "&quot;Bungaku Shoujo&quot; Memoire                    0.0    0.0    0.0   \n",
       "&quot;Bungaku Shoujo&quot; Movie                      0.0    0.0   10.0   \n",
       "&quot;Eiji&quot;                                      0.0    0.0    0.0   \n",
       "\n",
       "user_id                                             73503  73507  \n",
       "name                                                              \n",
       "&quot;0&quot;                                         0.0    0.0  \n",
       "&quot;Bungaku Shoujo&quot; Kyou no Oyatsu: Hats...    0.0    0.0  \n",
       "&quot;Bungaku Shoujo&quot; Memoire                    0.0    0.0  \n",
       "&quot;Bungaku Shoujo&quot; Movie                      0.0    0.0  \n",
       "&quot;Eiji&quot;                                      0.0    0.0  \n",
       "\n",
       "[5 rows x 10759 columns]"
      ]
     },
     "execution_count": 59,
     "metadata": {},
     "output_type": "execute_result"
    }
   ],
   "source": [
    "anime_pivot=anime.pivot_table(index='name',columns='user_id',values='rating_user').fillna(0)\n",
    "anime_pivot.head()"
   ]
  },
  {
   "cell_type": "markdown",
   "id": "975172c8-fe02-4aae-9638-98c16fd587a8",
   "metadata": {},
   "source": [
    "##### Creating the Sparse Matrix for the recommender engine"
   ]
  },
  {
   "cell_type": "code",
   "execution_count": 60,
   "id": "4bbad385-ba1f-4d20-91d9-f2626a7098d4",
   "metadata": {},
   "outputs": [],
   "source": [
    "anime_matrix = csr_matrix(anime_pivot.values)"
   ]
  },
  {
   "cell_type": "code",
   "execution_count": 61,
   "id": "70d1e79d-2fee-4447-979a-2aa589499cb8",
   "metadata": {},
   "outputs": [
    {
     "data": {
      "text/html": [
       "<style>#sk-container-id-3 {\n",
       "  /* Definition of color scheme common for light and dark mode */\n",
       "  --sklearn-color-text: black;\n",
       "  --sklearn-color-line: gray;\n",
       "  /* Definition of color scheme for unfitted estimators */\n",
       "  --sklearn-color-unfitted-level-0: #fff5e6;\n",
       "  --sklearn-color-unfitted-level-1: #f6e4d2;\n",
       "  --sklearn-color-unfitted-level-2: #ffe0b3;\n",
       "  --sklearn-color-unfitted-level-3: chocolate;\n",
       "  /* Definition of color scheme for fitted estimators */\n",
       "  --sklearn-color-fitted-level-0: #f0f8ff;\n",
       "  --sklearn-color-fitted-level-1: #d4ebff;\n",
       "  --sklearn-color-fitted-level-2: #b3dbfd;\n",
       "  --sklearn-color-fitted-level-3: cornflowerblue;\n",
       "\n",
       "  /* Specific color for light theme */\n",
       "  --sklearn-color-text-on-default-background: var(--sg-text-color, var(--theme-code-foreground, var(--jp-content-font-color1, black)));\n",
       "  --sklearn-color-background: var(--sg-background-color, var(--theme-background, var(--jp-layout-color0, white)));\n",
       "  --sklearn-color-border-box: var(--sg-text-color, var(--theme-code-foreground, var(--jp-content-font-color1, black)));\n",
       "  --sklearn-color-icon: #696969;\n",
       "\n",
       "  @media (prefers-color-scheme: dark) {\n",
       "    /* Redefinition of color scheme for dark theme */\n",
       "    --sklearn-color-text-on-default-background: var(--sg-text-color, var(--theme-code-foreground, var(--jp-content-font-color1, white)));\n",
       "    --sklearn-color-background: var(--sg-background-color, var(--theme-background, var(--jp-layout-color0, #111)));\n",
       "    --sklearn-color-border-box: var(--sg-text-color, var(--theme-code-foreground, var(--jp-content-font-color1, white)));\n",
       "    --sklearn-color-icon: #878787;\n",
       "  }\n",
       "}\n",
       "\n",
       "#sk-container-id-3 {\n",
       "  color: var(--sklearn-color-text);\n",
       "}\n",
       "\n",
       "#sk-container-id-3 pre {\n",
       "  padding: 0;\n",
       "}\n",
       "\n",
       "#sk-container-id-3 input.sk-hidden--visually {\n",
       "  border: 0;\n",
       "  clip: rect(1px 1px 1px 1px);\n",
       "  clip: rect(1px, 1px, 1px, 1px);\n",
       "  height: 1px;\n",
       "  margin: -1px;\n",
       "  overflow: hidden;\n",
       "  padding: 0;\n",
       "  position: absolute;\n",
       "  width: 1px;\n",
       "}\n",
       "\n",
       "#sk-container-id-3 div.sk-dashed-wrapped {\n",
       "  border: 1px dashed var(--sklearn-color-line);\n",
       "  margin: 0 0.4em 0.5em 0.4em;\n",
       "  box-sizing: border-box;\n",
       "  padding-bottom: 0.4em;\n",
       "  background-color: var(--sklearn-color-background);\n",
       "}\n",
       "\n",
       "#sk-container-id-3 div.sk-container {\n",
       "  /* jupyter's `normalize.less` sets `[hidden] { display: none; }`\n",
       "     but bootstrap.min.css set `[hidden] { display: none !important; }`\n",
       "     so we also need the `!important` here to be able to override the\n",
       "     default hidden behavior on the sphinx rendered scikit-learn.org.\n",
       "     See: https://github.com/scikit-learn/scikit-learn/issues/21755 */\n",
       "  display: inline-block !important;\n",
       "  position: relative;\n",
       "}\n",
       "\n",
       "#sk-container-id-3 div.sk-text-repr-fallback {\n",
       "  display: none;\n",
       "}\n",
       "\n",
       "div.sk-parallel-item,\n",
       "div.sk-serial,\n",
       "div.sk-item {\n",
       "  /* draw centered vertical line to link estimators */\n",
       "  background-image: linear-gradient(var(--sklearn-color-text-on-default-background), var(--sklearn-color-text-on-default-background));\n",
       "  background-size: 2px 100%;\n",
       "  background-repeat: no-repeat;\n",
       "  background-position: center center;\n",
       "}\n",
       "\n",
       "/* Parallel-specific style estimator block */\n",
       "\n",
       "#sk-container-id-3 div.sk-parallel-item::after {\n",
       "  content: \"\";\n",
       "  width: 100%;\n",
       "  border-bottom: 2px solid var(--sklearn-color-text-on-default-background);\n",
       "  flex-grow: 1;\n",
       "}\n",
       "\n",
       "#sk-container-id-3 div.sk-parallel {\n",
       "  display: flex;\n",
       "  align-items: stretch;\n",
       "  justify-content: center;\n",
       "  background-color: var(--sklearn-color-background);\n",
       "  position: relative;\n",
       "}\n",
       "\n",
       "#sk-container-id-3 div.sk-parallel-item {\n",
       "  display: flex;\n",
       "  flex-direction: column;\n",
       "}\n",
       "\n",
       "#sk-container-id-3 div.sk-parallel-item:first-child::after {\n",
       "  align-self: flex-end;\n",
       "  width: 50%;\n",
       "}\n",
       "\n",
       "#sk-container-id-3 div.sk-parallel-item:last-child::after {\n",
       "  align-self: flex-start;\n",
       "  width: 50%;\n",
       "}\n",
       "\n",
       "#sk-container-id-3 div.sk-parallel-item:only-child::after {\n",
       "  width: 0;\n",
       "}\n",
       "\n",
       "/* Serial-specific style estimator block */\n",
       "\n",
       "#sk-container-id-3 div.sk-serial {\n",
       "  display: flex;\n",
       "  flex-direction: column;\n",
       "  align-items: center;\n",
       "  background-color: var(--sklearn-color-background);\n",
       "  padding-right: 1em;\n",
       "  padding-left: 1em;\n",
       "}\n",
       "\n",
       "\n",
       "/* Toggleable style: style used for estimator/Pipeline/ColumnTransformer box that is\n",
       "clickable and can be expanded/collapsed.\n",
       "- Pipeline and ColumnTransformer use this feature and define the default style\n",
       "- Estimators will overwrite some part of the style using the `sk-estimator` class\n",
       "*/\n",
       "\n",
       "/* Pipeline and ColumnTransformer style (default) */\n",
       "\n",
       "#sk-container-id-3 div.sk-toggleable {\n",
       "  /* Default theme specific background. It is overwritten whether we have a\n",
       "  specific estimator or a Pipeline/ColumnTransformer */\n",
       "  background-color: var(--sklearn-color-background);\n",
       "}\n",
       "\n",
       "/* Toggleable label */\n",
       "#sk-container-id-3 label.sk-toggleable__label {\n",
       "  cursor: pointer;\n",
       "  display: block;\n",
       "  width: 100%;\n",
       "  margin-bottom: 0;\n",
       "  padding: 0.5em;\n",
       "  box-sizing: border-box;\n",
       "  text-align: center;\n",
       "}\n",
       "\n",
       "#sk-container-id-3 label.sk-toggleable__label-arrow:before {\n",
       "  /* Arrow on the left of the label */\n",
       "  content: \"▸\";\n",
       "  float: left;\n",
       "  margin-right: 0.25em;\n",
       "  color: var(--sklearn-color-icon);\n",
       "}\n",
       "\n",
       "#sk-container-id-3 label.sk-toggleable__label-arrow:hover:before {\n",
       "  color: var(--sklearn-color-text);\n",
       "}\n",
       "\n",
       "/* Toggleable content - dropdown */\n",
       "\n",
       "#sk-container-id-3 div.sk-toggleable__content {\n",
       "  max-height: 0;\n",
       "  max-width: 0;\n",
       "  overflow: hidden;\n",
       "  text-align: left;\n",
       "  /* unfitted */\n",
       "  background-color: var(--sklearn-color-unfitted-level-0);\n",
       "}\n",
       "\n",
       "#sk-container-id-3 div.sk-toggleable__content.fitted {\n",
       "  /* fitted */\n",
       "  background-color: var(--sklearn-color-fitted-level-0);\n",
       "}\n",
       "\n",
       "#sk-container-id-3 div.sk-toggleable__content pre {\n",
       "  margin: 0.2em;\n",
       "  border-radius: 0.25em;\n",
       "  color: var(--sklearn-color-text);\n",
       "  /* unfitted */\n",
       "  background-color: var(--sklearn-color-unfitted-level-0);\n",
       "}\n",
       "\n",
       "#sk-container-id-3 div.sk-toggleable__content.fitted pre {\n",
       "  /* unfitted */\n",
       "  background-color: var(--sklearn-color-fitted-level-0);\n",
       "}\n",
       "\n",
       "#sk-container-id-3 input.sk-toggleable__control:checked~div.sk-toggleable__content {\n",
       "  /* Expand drop-down */\n",
       "  max-height: 200px;\n",
       "  max-width: 100%;\n",
       "  overflow: auto;\n",
       "}\n",
       "\n",
       "#sk-container-id-3 input.sk-toggleable__control:checked~label.sk-toggleable__label-arrow:before {\n",
       "  content: \"▾\";\n",
       "}\n",
       "\n",
       "/* Pipeline/ColumnTransformer-specific style */\n",
       "\n",
       "#sk-container-id-3 div.sk-label input.sk-toggleable__control:checked~label.sk-toggleable__label {\n",
       "  color: var(--sklearn-color-text);\n",
       "  background-color: var(--sklearn-color-unfitted-level-2);\n",
       "}\n",
       "\n",
       "#sk-container-id-3 div.sk-label.fitted input.sk-toggleable__control:checked~label.sk-toggleable__label {\n",
       "  background-color: var(--sklearn-color-fitted-level-2);\n",
       "}\n",
       "\n",
       "/* Estimator-specific style */\n",
       "\n",
       "/* Colorize estimator box */\n",
       "#sk-container-id-3 div.sk-estimator input.sk-toggleable__control:checked~label.sk-toggleable__label {\n",
       "  /* unfitted */\n",
       "  background-color: var(--sklearn-color-unfitted-level-2);\n",
       "}\n",
       "\n",
       "#sk-container-id-3 div.sk-estimator.fitted input.sk-toggleable__control:checked~label.sk-toggleable__label {\n",
       "  /* fitted */\n",
       "  background-color: var(--sklearn-color-fitted-level-2);\n",
       "}\n",
       "\n",
       "#sk-container-id-3 div.sk-label label.sk-toggleable__label,\n",
       "#sk-container-id-3 div.sk-label label {\n",
       "  /* The background is the default theme color */\n",
       "  color: var(--sklearn-color-text-on-default-background);\n",
       "}\n",
       "\n",
       "/* On hover, darken the color of the background */\n",
       "#sk-container-id-3 div.sk-label:hover label.sk-toggleable__label {\n",
       "  color: var(--sklearn-color-text);\n",
       "  background-color: var(--sklearn-color-unfitted-level-2);\n",
       "}\n",
       "\n",
       "/* Label box, darken color on hover, fitted */\n",
       "#sk-container-id-3 div.sk-label.fitted:hover label.sk-toggleable__label.fitted {\n",
       "  color: var(--sklearn-color-text);\n",
       "  background-color: var(--sklearn-color-fitted-level-2);\n",
       "}\n",
       "\n",
       "/* Estimator label */\n",
       "\n",
       "#sk-container-id-3 div.sk-label label {\n",
       "  font-family: monospace;\n",
       "  font-weight: bold;\n",
       "  display: inline-block;\n",
       "  line-height: 1.2em;\n",
       "}\n",
       "\n",
       "#sk-container-id-3 div.sk-label-container {\n",
       "  text-align: center;\n",
       "}\n",
       "\n",
       "/* Estimator-specific */\n",
       "#sk-container-id-3 div.sk-estimator {\n",
       "  font-family: monospace;\n",
       "  border: 1px dotted var(--sklearn-color-border-box);\n",
       "  border-radius: 0.25em;\n",
       "  box-sizing: border-box;\n",
       "  margin-bottom: 0.5em;\n",
       "  /* unfitted */\n",
       "  background-color: var(--sklearn-color-unfitted-level-0);\n",
       "}\n",
       "\n",
       "#sk-container-id-3 div.sk-estimator.fitted {\n",
       "  /* fitted */\n",
       "  background-color: var(--sklearn-color-fitted-level-0);\n",
       "}\n",
       "\n",
       "/* on hover */\n",
       "#sk-container-id-3 div.sk-estimator:hover {\n",
       "  /* unfitted */\n",
       "  background-color: var(--sklearn-color-unfitted-level-2);\n",
       "}\n",
       "\n",
       "#sk-container-id-3 div.sk-estimator.fitted:hover {\n",
       "  /* fitted */\n",
       "  background-color: var(--sklearn-color-fitted-level-2);\n",
       "}\n",
       "\n",
       "/* Specification for estimator info (e.g. \"i\" and \"?\") */\n",
       "\n",
       "/* Common style for \"i\" and \"?\" */\n",
       "\n",
       ".sk-estimator-doc-link,\n",
       "a:link.sk-estimator-doc-link,\n",
       "a:visited.sk-estimator-doc-link {\n",
       "  float: right;\n",
       "  font-size: smaller;\n",
       "  line-height: 1em;\n",
       "  font-family: monospace;\n",
       "  background-color: var(--sklearn-color-background);\n",
       "  border-radius: 1em;\n",
       "  height: 1em;\n",
       "  width: 1em;\n",
       "  text-decoration: none !important;\n",
       "  margin-left: 1ex;\n",
       "  /* unfitted */\n",
       "  border: var(--sklearn-color-unfitted-level-1) 1pt solid;\n",
       "  color: var(--sklearn-color-unfitted-level-1);\n",
       "}\n",
       "\n",
       ".sk-estimator-doc-link.fitted,\n",
       "a:link.sk-estimator-doc-link.fitted,\n",
       "a:visited.sk-estimator-doc-link.fitted {\n",
       "  /* fitted */\n",
       "  border: var(--sklearn-color-fitted-level-1) 1pt solid;\n",
       "  color: var(--sklearn-color-fitted-level-1);\n",
       "}\n",
       "\n",
       "/* On hover */\n",
       "div.sk-estimator:hover .sk-estimator-doc-link:hover,\n",
       ".sk-estimator-doc-link:hover,\n",
       "div.sk-label-container:hover .sk-estimator-doc-link:hover,\n",
       ".sk-estimator-doc-link:hover {\n",
       "  /* unfitted */\n",
       "  background-color: var(--sklearn-color-unfitted-level-3);\n",
       "  color: var(--sklearn-color-background);\n",
       "  text-decoration: none;\n",
       "}\n",
       "\n",
       "div.sk-estimator.fitted:hover .sk-estimator-doc-link.fitted:hover,\n",
       ".sk-estimator-doc-link.fitted:hover,\n",
       "div.sk-label-container:hover .sk-estimator-doc-link.fitted:hover,\n",
       ".sk-estimator-doc-link.fitted:hover {\n",
       "  /* fitted */\n",
       "  background-color: var(--sklearn-color-fitted-level-3);\n",
       "  color: var(--sklearn-color-background);\n",
       "  text-decoration: none;\n",
       "}\n",
       "\n",
       "/* Span, style for the box shown on hovering the info icon */\n",
       ".sk-estimator-doc-link span {\n",
       "  display: none;\n",
       "  z-index: 9999;\n",
       "  position: relative;\n",
       "  font-weight: normal;\n",
       "  right: .2ex;\n",
       "  padding: .5ex;\n",
       "  margin: .5ex;\n",
       "  width: min-content;\n",
       "  min-width: 20ex;\n",
       "  max-width: 50ex;\n",
       "  color: var(--sklearn-color-text);\n",
       "  box-shadow: 2pt 2pt 4pt #999;\n",
       "  /* unfitted */\n",
       "  background: var(--sklearn-color-unfitted-level-0);\n",
       "  border: .5pt solid var(--sklearn-color-unfitted-level-3);\n",
       "}\n",
       "\n",
       ".sk-estimator-doc-link.fitted span {\n",
       "  /* fitted */\n",
       "  background: var(--sklearn-color-fitted-level-0);\n",
       "  border: var(--sklearn-color-fitted-level-3);\n",
       "}\n",
       "\n",
       ".sk-estimator-doc-link:hover span {\n",
       "  display: block;\n",
       "}\n",
       "\n",
       "/* \"?\"-specific style due to the `<a>` HTML tag */\n",
       "\n",
       "#sk-container-id-3 a.estimator_doc_link {\n",
       "  float: right;\n",
       "  font-size: 1rem;\n",
       "  line-height: 1em;\n",
       "  font-family: monospace;\n",
       "  background-color: var(--sklearn-color-background);\n",
       "  border-radius: 1rem;\n",
       "  height: 1rem;\n",
       "  width: 1rem;\n",
       "  text-decoration: none;\n",
       "  /* unfitted */\n",
       "  color: var(--sklearn-color-unfitted-level-1);\n",
       "  border: var(--sklearn-color-unfitted-level-1) 1pt solid;\n",
       "}\n",
       "\n",
       "#sk-container-id-3 a.estimator_doc_link.fitted {\n",
       "  /* fitted */\n",
       "  border: var(--sklearn-color-fitted-level-1) 1pt solid;\n",
       "  color: var(--sklearn-color-fitted-level-1);\n",
       "}\n",
       "\n",
       "/* On hover */\n",
       "#sk-container-id-3 a.estimator_doc_link:hover {\n",
       "  /* unfitted */\n",
       "  background-color: var(--sklearn-color-unfitted-level-3);\n",
       "  color: var(--sklearn-color-background);\n",
       "  text-decoration: none;\n",
       "}\n",
       "\n",
       "#sk-container-id-3 a.estimator_doc_link.fitted:hover {\n",
       "  /* fitted */\n",
       "  background-color: var(--sklearn-color-fitted-level-3);\n",
       "}\n",
       "</style><div id=\"sk-container-id-3\" class=\"sk-top-container\"><div class=\"sk-text-repr-fallback\"><pre>NearestNeighbors(algorithm=&#x27;brute&#x27;, metric=&#x27;cosine&#x27;)</pre><b>In a Jupyter environment, please rerun this cell to show the HTML representation or trust the notebook. <br />On GitHub, the HTML representation is unable to render, please try loading this page with nbviewer.org.</b></div><div class=\"sk-container\" hidden><div class=\"sk-item\"><div class=\"sk-estimator fitted sk-toggleable\"><input class=\"sk-toggleable__control sk-hidden--visually\" id=\"sk-estimator-id-3\" type=\"checkbox\" checked><label for=\"sk-estimator-id-3\" class=\"sk-toggleable__label fitted sk-toggleable__label-arrow fitted\">&nbsp;&nbsp;NearestNeighbors<a class=\"sk-estimator-doc-link fitted\" rel=\"noreferrer\" target=\"_blank\" href=\"https://scikit-learn.org/1.4/modules/generated/sklearn.neighbors.NearestNeighbors.html\">?<span>Documentation for NearestNeighbors</span></a><span class=\"sk-estimator-doc-link fitted\">i<span>Fitted</span></span></label><div class=\"sk-toggleable__content fitted\"><pre>NearestNeighbors(algorithm=&#x27;brute&#x27;, metric=&#x27;cosine&#x27;)</pre></div> </div></div></div></div>"
      ],
      "text/plain": [
       "NearestNeighbors(algorithm='brute', metric='cosine')"
      ]
     },
     "execution_count": 61,
     "metadata": {},
     "output_type": "execute_result"
    }
   ],
   "source": [
    "model_knn = NearestNeighbors(metric = 'cosine', algorithm = 'brute')\n",
    "model_knn.fit(anime_matrix)"
   ]
  },
  {
   "cell_type": "markdown",
   "id": "92bcdfce-f707-49a5-8b82-4008de83e4ca",
   "metadata": {},
   "source": [
    "We are utilizing the k-nearest neighbors (KNN) algorithm with cosine similarity to create a recommendation system for anime titles. By initializing an instance of the NearestNeighbors class from scikit-learn and specifying the cosine distance metric, we preparing a model capable of finding the nearest neighbors of a given anime based on their textual content."
   ]
  },
  {
   "cell_type": "markdown",
   "id": "1a9dad4c-9329-4888-b094-a08a2cbed10f",
   "metadata": {},
   "source": [
    "The choice of cosine similarity is well-suited for this task as it measures the similarity between two vectors by computing the cosine of the angle between them, making it effective for text-based recommendation systems."
   ]
  },
  {
   "cell_type": "code",
   "execution_count": 62,
   "id": "94e86c7b-7c71-4658-8b12-9300d6aa01d8",
   "metadata": {},
   "outputs": [],
   "source": [
    "query_index = np.random.choice(anime_pivot.shape[0])\n",
    "distances, indices = model_knn.kneighbors(anime_pivot.iloc[query_index,:].values.reshape(1, -1), n_neighbors = 6)"
   ]
  },
  {
   "cell_type": "code",
   "execution_count": 63,
   "id": "01eab9cb-4a1d-4268-a42f-d16ee9ff588f",
   "metadata": {},
   "outputs": [
    {
     "name": "stdout",
     "output_type": "stream",
     "text": [
      "Recommendations for Capeta:\n",
      "\n",
      "1: Initial D Fourth Stage, with distance of 0.7160718169297802:\n",
      "2: Initial D First Stage, with distance of 0.7250550659310971:\n",
      "3: Initial D Third Stage, with distance of 0.725205591058899:\n",
      "4: Major S2, with distance of 0.7269172399798531:\n",
      "5: Major S3, with distance of 0.728785892305631:\n"
     ]
    }
   ],
   "source": [
    "for i in range(0, len(distances.flatten())):\n",
    "    if i == 0:\n",
    "        print('Recommendations for {0}:\\n'.format(anime_pivot.index[query_index]))\n",
    "    else:\n",
    "        print('{0}: {1}, with distance of {2}:'.format(i, anime_pivot.index[indices.flatten()[i]], distances.flatten()[i]))"
   ]
  },
  {
   "cell_type": "markdown",
   "id": "b4152639-cb29-4167-ac2a-0bd2cb2c4b92",
   "metadata": {},
   "source": [
    "\n",
    "Based on the recommendations for \"Macross Flash Back 2012,\" the system suggests the following anime titles along with their respective distances:\n",
    "\n",
    "\"Macross: Do You Remember Love?\" (Distance: 0.4545)\n",
    "\"Macross II: Lovers Again\" (Distance: 0.4680)\n",
    "\"Macross 7 Encore\" (Distance: 0.4954)\n",
    "\"Macross 7 Movie: Ginga ga Ore wo Yondeiru!\" (Distance: 0.4988)\n",
    "\"Macross Dynamite 7\" (Distance: 0.5211)\n",
    "\n",
    "These recommendations are generated based on the similarity of content to \"Macross Flash Back 2012.\" The closer the distance value to 0, the higher the similarity between the titles. Therefore, these recommended titles are likely to share thematic elements, storyline characteristics, or other features with \"Macross Flash Back 2012,\" making them potentially appealing choices for viewers who enjoyed the original anime."
   ]
  },
  {
   "cell_type": "markdown",
   "id": "9c926726-6172-4503-9052-3b8c41d67778",
   "metadata": {},
   "source": [
    "-----------------------------------------------------------------------------------------------------------------------------------------------------"
   ]
  },
  {
   "cell_type": "markdown",
   "id": "4e20b55c-2431-42ba-97dd-02ca5628962d",
   "metadata": {},
   "source": [
    "### Building The Content Bases Recommender System"
   ]
  },
  {
   "cell_type": "markdown",
   "id": "17b25bba-de33-49db-ba24-62e826e672cc",
   "metadata": {},
   "source": [
    "#### Getting tf idf Vectors"
   ]
  },
  {
   "cell_type": "markdown",
   "id": "08a5aa37-0a60-46f7-b0f1-24cd6be343cd",
   "metadata": {},
   "source": [
    "TF-IDF (Term Frequency-Inverse Document Frequency) is essential in content-based filtering scenarios, such as recommending anime based on genre, because it helps capture the relative importance of terms (in this case, genres) within individual anime titles. Here's why TF-IDF is necessary:\n",
    "\n",
    "Importance Weighting: \n",
    "\n",
    "1. TF-IDF assigns weights to each term based on how frequently they appear in a document (anime title) relative to the entire corpus of documents (all anime titles). This ensures that more common genres (like \"Action\" or \"Comedy\") have lower weights compared to less common ones, making the recommendations more nuanced and reflective of the specific interests of users.\n",
    "\n",
    "2. Dimensionality Reduction: By converting genre text data into TF-IDF vectors, we transform the categorical genre information into numerical representations. This enables us to perform calculations and comparisons more efficiently and effectively, especially in scenarios with large datasets.\n",
    "\n",
    "3. Relevance Ranking: TF-IDF helps in identifying the genres that are most relevant to each anime title. Genres with higher TF-IDF scores are considered more discriminative and indicative of the anime's content. This allows for more accurate matching between user preferences and anime recommendations."
   ]
  },
  {
   "cell_type": "markdown",
   "id": "4bddddc7-c022-4622-b00b-50827c2a81e7",
   "metadata": {},
   "source": [
    "##### Cleaning the data again"
   ]
  },
  {
   "cell_type": "code",
   "execution_count": 64,
   "id": "8f2af64b-eee1-4df4-b927-c221edb3c798",
   "metadata": {},
   "outputs": [],
   "source": [
    "import re\n",
    "def text_cleaning(text):\n",
    "    text = re.sub(r'&quot;', '', text)\n",
    "    text = re.sub(r'.hack//', '', text)\n",
    "    text = re.sub(r'&#039;', '', text)\n",
    "    text = re.sub(r'A&#039;s', '', text)\n",
    "    text = re.sub(r'I&#039;', 'I\\'', text)\n",
    "    text = re.sub(r'&amp;', 'and', text)\n",
    "    \n",
    "    return text"
   ]
  },
  {
   "cell_type": "code",
   "execution_count": 65,
   "id": "980794f2-39cd-47ac-a193-bae38ab76466",
   "metadata": {},
   "outputs": [
    {
     "data": {
      "text/html": [
       "<div>\n",
       "<style scoped>\n",
       "    .dataframe tbody tr th:only-of-type {\n",
       "        vertical-align: middle;\n",
       "    }\n",
       "\n",
       "    .dataframe tbody tr th {\n",
       "        vertical-align: top;\n",
       "    }\n",
       "\n",
       "    .dataframe thead th {\n",
       "        text-align: right;\n",
       "    }\n",
       "</style>\n",
       "<table border=\"1\" class=\"dataframe\">\n",
       "  <thead>\n",
       "    <tr style=\"text-align: right;\">\n",
       "      <th></th>\n",
       "      <th>anime_id</th>\n",
       "      <th>name</th>\n",
       "      <th>genre</th>\n",
       "      <th>type</th>\n",
       "      <th>episodes</th>\n",
       "      <th>rating</th>\n",
       "      <th>members</th>\n",
       "    </tr>\n",
       "  </thead>\n",
       "  <tbody>\n",
       "    <tr>\n",
       "      <th>0</th>\n",
       "      <td>32281</td>\n",
       "      <td>Kimi no Na wa.</td>\n",
       "      <td>Drama, Romance, School, Supernatural</td>\n",
       "      <td>Movie</td>\n",
       "      <td>1</td>\n",
       "      <td>9.37</td>\n",
       "      <td>200630</td>\n",
       "    </tr>\n",
       "    <tr>\n",
       "      <th>1</th>\n",
       "      <td>5114</td>\n",
       "      <td>Fullmetal Alchemist: Brotherhood</td>\n",
       "      <td>Action, Adventure, Drama, Fantasy, Magic, Mili...</td>\n",
       "      <td>TV</td>\n",
       "      <td>64</td>\n",
       "      <td>9.26</td>\n",
       "      <td>793665</td>\n",
       "    </tr>\n",
       "    <tr>\n",
       "      <th>2</th>\n",
       "      <td>28977</td>\n",
       "      <td>Gintama°</td>\n",
       "      <td>Action, Comedy, Historical, Parody, Samurai, S...</td>\n",
       "      <td>TV</td>\n",
       "      <td>51</td>\n",
       "      <td>9.25</td>\n",
       "      <td>114262</td>\n",
       "    </tr>\n",
       "    <tr>\n",
       "      <th>3</th>\n",
       "      <td>9253</td>\n",
       "      <td>Steins;Gate</td>\n",
       "      <td>Sci-Fi, Thriller</td>\n",
       "      <td>TV</td>\n",
       "      <td>24</td>\n",
       "      <td>9.17</td>\n",
       "      <td>673572</td>\n",
       "    </tr>\n",
       "    <tr>\n",
       "      <th>4</th>\n",
       "      <td>9969</td>\n",
       "      <td>Gintama</td>\n",
       "      <td>Action, Comedy, Historical, Parody, Samurai, S...</td>\n",
       "      <td>TV</td>\n",
       "      <td>51</td>\n",
       "      <td>9.16</td>\n",
       "      <td>151266</td>\n",
       "    </tr>\n",
       "  </tbody>\n",
       "</table>\n",
       "</div>"
      ],
      "text/plain": [
       "   anime_id                              name  \\\n",
       "0     32281                    Kimi no Na wa.   \n",
       "1      5114  Fullmetal Alchemist: Brotherhood   \n",
       "2     28977                          Gintama°   \n",
       "3      9253                       Steins;Gate   \n",
       "4      9969                           Gintama   \n",
       "\n",
       "                                               genre   type episodes  rating  \\\n",
       "0               Drama, Romance, School, Supernatural  Movie        1    9.37   \n",
       "1  Action, Adventure, Drama, Fantasy, Magic, Mili...     TV       64    9.26   \n",
       "2  Action, Comedy, Historical, Parody, Samurai, S...     TV       51    9.25   \n",
       "3                                   Sci-Fi, Thriller     TV       24    9.17   \n",
       "4  Action, Comedy, Historical, Parody, Samurai, S...     TV       51    9.16   \n",
       "\n",
       "   members  \n",
       "0   200630  \n",
       "1   793665  \n",
       "2   114262  \n",
       "3   673572  \n",
       "4   151266  "
      ]
     },
     "execution_count": 65,
     "metadata": {},
     "output_type": "execute_result"
    }
   ],
   "source": [
    "anime_data_initial['name'] = anime_data_initial['name'].apply(text_cleaning)\n",
    "anime_data_initial.head()"
   ]
  },
  {
   "cell_type": "code",
   "execution_count": 66,
   "id": "362fd234-af2b-483d-ab48-b4d89c6ddf10",
   "metadata": {},
   "outputs": [],
   "source": [
    "tfv = TfidfVectorizer(min_df=3,  max_features=None, \n",
    "            strip_accents='unicode', analyzer='word',token_pattern=r'\\w{1,}',\n",
    "            ngram_range=(1, 3),\n",
    "            stop_words = 'english')\n",
    "\n",
    "# Filling NaNs with empty string\n",
    "anime_data_initial['genre'] = anime_data_initial['genre'].fillna('')\n",
    "genres_str = anime_data_initial['genre'].str.split(',').astype(str)\n",
    "tfv_matrix = tfv.fit_transform(genres_str)"
   ]
  },
  {
   "cell_type": "markdown",
   "id": "ecf8728e-089b-4c83-ab41-99e91f4c96d8",
   "metadata": {},
   "source": [
    "TfidfVectorizer from scikit-learn to extract TF-IDF features from the genre information of anime titles stored in the DataFrame anime_data. TF-IDF, which stands for Term Frequency-Inverse Document Frequency, is a numerical statistic that reflects the importance of a word or phrase in a document relative to a collection of documents. Here, I'm setting up the TfidfVectorizer with specific configurations: ignoring terms with a document frequency lower than 3, considering unigrams, bigrams, and trigrams, removing English stop words, and employing Unicode normalization to strip accents."
   ]
  },
  {
   "cell_type": "markdown",
   "id": "66cd1e86-bed8-4c0a-b9a2-b546e2e38a04",
   "metadata": {},
   "source": [
    "After filling any missing genre information with empty strings, I'm converting the genre strings into lists and then applying the fit_transform method of the TfidfVectorizer to generate the TF-IDF matrix. This matrix will serve as a numerical representation of the genre data, capturing the significance of each genre across different anime titles. This preprocessing step lays the groundwork for various machine learning tasks, including clustering, classification, and recommendation systems, by enabling the utilization of genre information in an analytically meaningful way."
   ]
  },
  {
   "cell_type": "code",
   "execution_count": 67,
   "id": "95ab3c18-5e29-4a00-ad1b-4e20f486b030",
   "metadata": {},
   "outputs": [],
   "source": [
    "sig = sigmoid_kernel(tfv_matrix, tfv_matrix)"
   ]
  },
  {
   "cell_type": "code",
   "execution_count": 68,
   "id": "79d919bb-2bb9-4cfb-ba7b-3d2928efa73a",
   "metadata": {},
   "outputs": [],
   "source": [
    "indices = pd.Series(anime_data_initial.index, index=anime_data_initial['name']).drop_duplicates()"
   ]
  },
  {
   "cell_type": "code",
   "execution_count": 69,
   "id": "ae24019a-f7af-4efe-a280-1499c8e7d629",
   "metadata": {},
   "outputs": [
    {
     "data": {
      "text/plain": [
       "name\n",
       "Kimi no Na wa.                                            0\n",
       "Fullmetal Alchemist: Brotherhood                          1\n",
       "Gintama°                                                  2\n",
       "Steins;Gate                                               3\n",
       "Gintama                                                   4\n",
       "                                                      ...  \n",
       "Toushindai My Lover: Minami tai Mecha-Minami          12289\n",
       "Under World                                           12290\n",
       "Violence Gekiga David no Hoshi                        12291\n",
       "Violence Gekiga Shin David no Hoshi: Inma Densetsu    12292\n",
       "Yasuji no Pornorama: Yacchimae!!                      12293\n",
       "Length: 12294, dtype: int64"
      ]
     },
     "execution_count": 69,
     "metadata": {},
     "output_type": "execute_result"
    }
   ],
   "source": [
    "indices"
   ]
  },
  {
   "cell_type": "markdown",
   "id": "fc3d2403-b9f6-44a1-9ee6-bd88ce02a5ab",
   "metadata": {},
   "source": [
    "Now we are computing the sigmoid kernel for the TF-IDF matrix tfv_matrix. The sigmoid kernel is a similarity measure that quantifies the similarity between pairs of anime titles based on their TF-IDF representations. This kernel function produces a similarity matrix sig where each element represents the similarity score between two anime titles."
   ]
  },
  {
   "cell_type": "markdown",
   "id": "3c9aec3a-661c-444b-9d22-7969c2cec182",
   "metadata": {},
   "source": [
    "Additionally, we are creating a Pandas Series object indices that maps anime titles to their corresponding indices in the DataFrame anime_data. This mapping is essential for efficiently retrieving indices based on anime titles when generating recommendations."
   ]
  },
  {
   "cell_type": "markdown",
   "id": "9b58d828-2e8f-4ff7-b8dc-ca273bf6a6f8",
   "metadata": {},
   "source": [
    "#### Getting The Recommendation"
   ]
  },
  {
   "cell_type": "code",
   "execution_count": 75,
   "id": "13dbf6db-07b1-4729-b678-ee7ab90806b7",
   "metadata": {},
   "outputs": [],
   "source": [
    "def get_recommendations(title, sig=sig):\n",
    "    idx = indices[title]\n",
    "\n",
    "    sig_scores = list(enumerate(sig[idx]))\n",
    "\n",
    "    sig_scores = sorted(sig_scores, key=lambda x: x[1], reverse=True)\n",
    "\n",
    "    # Scores of the 15 most similar movies\n",
    "    sig_scores = sig_scores[1:15]\n",
    "\n",
    "    anime_indices = [i[0] for i in sig_scores]\n",
    "\n",
    "    return pd.DataFrame({'Anime name': anime_data_initial['name'].iloc[anime_indices].values,\n",
    "                                 'Rating': anime_data_initial['rating'].iloc[anime_indices].values})"
   ]
  },
  {
   "cell_type": "markdown",
   "id": "1a5b280e-6c8f-4733-97c4-9b6c37db33c5",
   "metadata": {},
   "source": [
    "The function get_recommendations serves as a pivotal component in our anime recommendation system, facilitating the retrieval of personalized anime recommendations based on the similarity of titles. When provided with a specific anime title as input, the function first identifies the index of that title in the pre-calculated similarity matrix. "
   ]
  },
  {
   "cell_type": "markdown",
   "id": "6bd74d33-01fb-4c4a-b966-67e2c5092f76",
   "metadata": {},
   "source": [
    "Subsequently, it sorts the similarity scores between the given title and all other titles in descending order, ensuring that titles with the highest similarity scores are prioritized. From this sorted list, the function selects the top 14 anime titles with the highest similarity scores, excluding the input title itself. Utilizing these selected indices, it constructs a DataFrame containing the names and ratings of the recommended anime titles."
   ]
  },
  {
   "cell_type": "markdown",
   "id": "db54c07c-4bbc-4359-9ff6-957583c590f2",
   "metadata": {},
   "source": [
    "This DataFrame, in turn, forms the basis for presenting tailored recommendations to users, enhancing their viewing experience by suggesting anime titles closely aligned with their preferences and tastes"
   ]
  },
  {
   "cell_type": "markdown",
   "id": "cb1dc01a-b8b8-49d8-a2f6-b765b021ad67",
   "metadata": {},
   "source": [
    "#### Results:"
   ]
  },
  {
   "cell_type": "code",
   "execution_count": 76,
   "id": "98f626db-8686-40c5-899d-37123b46d765",
   "metadata": {},
   "outputs": [
    {
     "data": {
      "text/html": [
       "<div>\n",
       "<style scoped>\n",
       "    .dataframe tbody tr th:only-of-type {\n",
       "        vertical-align: middle;\n",
       "    }\n",
       "\n",
       "    .dataframe tbody tr th {\n",
       "        vertical-align: top;\n",
       "    }\n",
       "\n",
       "    .dataframe thead th {\n",
       "        text-align: right;\n",
       "    }\n",
       "</style>\n",
       "<table border=\"1\" class=\"dataframe\">\n",
       "  <thead>\n",
       "    <tr style=\"text-align: right;\">\n",
       "      <th></th>\n",
       "      <th>Anime name</th>\n",
       "      <th>Rating</th>\n",
       "    </tr>\n",
       "  </thead>\n",
       "  <tbody>\n",
       "    <tr>\n",
       "      <th>0</th>\n",
       "      <td>Dragon Ball Kai (2014)</td>\n",
       "      <td>8.01</td>\n",
       "    </tr>\n",
       "    <tr>\n",
       "      <th>1</th>\n",
       "      <td>Dragon Ball Kai</td>\n",
       "      <td>7.95</td>\n",
       "    </tr>\n",
       "    <tr>\n",
       "      <th>2</th>\n",
       "      <td>Dragon Ball Z Movie 15: Fukkatsu no F</td>\n",
       "      <td>7.55</td>\n",
       "    </tr>\n",
       "    <tr>\n",
       "      <th>3</th>\n",
       "      <td>Dragon Ball Super</td>\n",
       "      <td>7.40</td>\n",
       "    </tr>\n",
       "    <tr>\n",
       "      <th>4</th>\n",
       "      <td>Dragon Ball Z: Summer Vacation Special</td>\n",
       "      <td>7.05</td>\n",
       "    </tr>\n",
       "    <tr>\n",
       "      <th>5</th>\n",
       "      <td>Dragon Ball Z: Atsumare! Gokuu World</td>\n",
       "      <td>6.76</td>\n",
       "    </tr>\n",
       "    <tr>\n",
       "      <th>6</th>\n",
       "      <td>Dragon Ball GT: Goku Gaiden! Yuuki no Akashi w...</td>\n",
       "      <td>6.75</td>\n",
       "    </tr>\n",
       "    <tr>\n",
       "      <th>7</th>\n",
       "      <td>Dragon Ball Z Movie 11: Super Senshi Gekiha!! ...</td>\n",
       "      <td>6.28</td>\n",
       "    </tr>\n",
       "    <tr>\n",
       "      <th>8</th>\n",
       "      <td>Dragon Ball</td>\n",
       "      <td>8.16</td>\n",
       "    </tr>\n",
       "    <tr>\n",
       "      <th>9</th>\n",
       "      <td>Dragon Ball Z Movie 14: Kami to Kami</td>\n",
       "      <td>7.62</td>\n",
       "    </tr>\n",
       "    <tr>\n",
       "      <th>10</th>\n",
       "      <td>Dragon Ball Z Movie 10: Kiken na Futari! Super...</td>\n",
       "      <td>7.11</td>\n",
       "    </tr>\n",
       "    <tr>\n",
       "      <th>11</th>\n",
       "      <td>Kenyuu Densetsu Yaiba</td>\n",
       "      <td>7.13</td>\n",
       "    </tr>\n",
       "    <tr>\n",
       "      <th>12</th>\n",
       "      <td>Dragon Ball Z: Zenbu Misemasu Toshi Wasure Dra...</td>\n",
       "      <td>7.00</td>\n",
       "    </tr>\n",
       "    <tr>\n",
       "      <th>13</th>\n",
       "      <td>Dragon Ball: Episode of Bardock</td>\n",
       "      <td>7.40</td>\n",
       "    </tr>\n",
       "  </tbody>\n",
       "</table>\n",
       "</div>"
      ],
      "text/plain": [
       "                                           Anime name  Rating\n",
       "0                              Dragon Ball Kai (2014)    8.01\n",
       "1                                     Dragon Ball Kai    7.95\n",
       "2               Dragon Ball Z Movie 15: Fukkatsu no F    7.55\n",
       "3                                   Dragon Ball Super    7.40\n",
       "4              Dragon Ball Z: Summer Vacation Special    7.05\n",
       "5                Dragon Ball Z: Atsumare! Gokuu World    6.76\n",
       "6   Dragon Ball GT: Goku Gaiden! Yuuki no Akashi w...    6.75\n",
       "7   Dragon Ball Z Movie 11: Super Senshi Gekiha!! ...    6.28\n",
       "8                                         Dragon Ball    8.16\n",
       "9                Dragon Ball Z Movie 14: Kami to Kami    7.62\n",
       "10  Dragon Ball Z Movie 10: Kiken na Futari! Super...    7.11\n",
       "11                              Kenyuu Densetsu Yaiba    7.13\n",
       "12  Dragon Ball Z: Zenbu Misemasu Toshi Wasure Dra...    7.00\n",
       "13                    Dragon Ball: Episode of Bardock    7.40"
      ]
     },
     "execution_count": 76,
     "metadata": {},
     "output_type": "execute_result"
    }
   ],
   "source": [
    "get_recommendations(\"Dragon Ball Z\")"
   ]
  },
  {
   "cell_type": "markdown",
   "id": "1849a9da-6646-43d2-a7d5-b2d636bbdaa3",
   "metadata": {},
   "source": [
    "The recommendation engine performed admirably, swiftly generating a list of anime titles closely related to \"Dragon Ball Z\" based on their respective ratings. The engine's functionality was seamless, swiftly processing the input and retrieving a diverse range of recommendations reflective of the user's interest in the original series. Notably, the engine showcased a keen ability to identify both direct sequels and spin-offs, as well as related titles within the broader Dragon Ball universe. Each recommendation was accompanied by its corresponding rating, providing users with valuable insights into the perceived quality of the suggested titles. "
   ]
  },
  {
   "cell_type": "markdown",
   "id": "7cd1b1e9-32be-463c-bca4-6ea9588d38c7",
   "metadata": {},
   "source": [
    "#### Making The DashBoard"
   ]
  },
  {
   "cell_type": "code",
   "execution_count": 124,
   "id": "73a87696-24d1-4c04-9fd0-a392a8da0fd3",
   "metadata": {},
   "outputs": [],
   "source": [
    "def plot_recommendations(recommendations_df):\n",
    "    plt.figure(figsize=(10, 6))\n",
    "    sns.barplot(x=\"Anime name\", y=\"Rating\", data=recommendations_df, palette=\"viridis\")\n",
    "    plt.xticks(rotation=45, ha='right', fontsize=10)\n",
    "    plt.yticks(fontsize=10)\n",
    "    plt.xlabel('Anime', fontsize=12)\n",
    "    plt.ylabel('Rating', fontsize=12)\n",
    "    plt.title('Top Recommendations', fontsize=14)\n",
    "    plt.tight_layout()\n",
    "        # Save the plot as a temporary file\n",
    "    with tempfile.NamedTemporaryFile(suffix=\".png\", delete=False) as temp_file:\n",
    "        plt.savefig(temp_file.name)\n",
    "        return temp_file.name"
   ]
  },
  {
   "cell_type": "code",
   "execution_count": 135,
   "id": "47a00ade-e7a8-4ef4-9f24-af09130c4ec4",
   "metadata": {},
   "outputs": [],
   "source": [
    "anime_name_input = gr.Textbox(label=\"Enter Anime Name\",  lines=2, placeholder=\"Type the name of the anime here\")\n",
    "recommendation_output = gr.Image(type=\"filepath\", label=\"Top Recommendations\")"
   ]
  },
  {
   "cell_type": "code",
   "execution_count": 138,
   "id": "1971a2c5-3f55-45c2-b859-c0474dc24e23",
   "metadata": {},
   "outputs": [],
   "source": [
    "def recommend_anime(anime_name):\n",
    "    recommendations_df = get_recommendations(anime_name)\n",
    "    image_path = plot_recommendations(recommendations_df)\n",
    "    return image_path"
   ]
  },
  {
   "cell_type": "code",
   "execution_count": 147,
   "id": "0f8a30e4-4aa1-48d0-816c-57a28a6bf982",
   "metadata": {},
   "outputs": [],
   "source": [
    "css = \".output-image, .input-image, .image-preview {height: 600px !important}\""
   ]
  },
  {
   "cell_type": "code",
   "execution_count": 148,
   "id": "808c34b4-34f3-49b7-ac43-48719e4c955e",
   "metadata": {},
   "outputs": [],
   "source": [
    "app = gr.Interface(fn=recommend_anime, inputs=anime_name_input, outputs=recommendation_output, title=\"Anime Recommendation System\", css=css)"
   ]
  },
  {
   "cell_type": "code",
   "execution_count": 149,
   "id": "a428500a-123b-43a7-90a6-724bd5054e5c",
   "metadata": {},
   "outputs": [
    {
     "name": "stdout",
     "output_type": "stream",
     "text": [
      "Running on local URL:  http://127.0.0.1:7870\n",
      "\n",
      "To create a public link, set `share=True` in `launch()`.\n"
     ]
    },
    {
     "data": {
      "text/html": [
       "<div><iframe src=\"http://127.0.0.1:7870/\" width=\"100%\" height=\"500\" allow=\"autoplay; camera; microphone; clipboard-read; clipboard-write;\" frameborder=\"0\" allowfullscreen></iframe></div>"
      ],
      "text/plain": [
       "<IPython.core.display.HTML object>"
      ]
     },
     "metadata": {},
     "output_type": "display_data"
    },
    {
     "data": {
      "text/plain": []
     },
     "execution_count": 149,
     "metadata": {},
     "output_type": "execute_result"
    }
   ],
   "source": [
    "app.launch()"
   ]
  },
  {
   "cell_type": "code",
   "execution_count": null,
   "id": "453a344f-6c76-48c5-acf0-5d43264a1c03",
   "metadata": {},
   "outputs": [],
   "source": []
  }
 ],
 "metadata": {
  "kernelspec": {
   "display_name": "Python 3 (ipykernel)",
   "language": "python",
   "name": "python3"
  },
  "language_info": {
   "codemirror_mode": {
    "name": "ipython",
    "version": 3
   },
   "file_extension": ".py",
   "mimetype": "text/x-python",
   "name": "python",
   "nbconvert_exporter": "python",
   "pygments_lexer": "ipython3",
   "version": "3.9.19"
  }
 },
 "nbformat": 4,
 "nbformat_minor": 5
}
